{
 "cells": [
  {
   "cell_type": "code",
   "execution_count": 1,
   "metadata": {},
   "outputs": [],
   "source": [
    "#Import packages\n",
    "import geopandas as gpd\n",
    "import osmnx as ox\n",
    "import shapely # spatial analysis"
   ]
  },
  {
   "cell_type": "code",
   "execution_count": 2,
   "metadata": {},
   "outputs": [
    {
     "data": {
      "text/plain": [
       "True"
      ]
     },
     "execution_count": 2,
     "metadata": {},
     "output_type": "execute_result"
    }
   ],
   "source": [
    "#import shapely.speedups\n",
    "from shapely import speedups\n",
    "speedups.enabled"
   ]
  },
  {
   "cell_type": "code",
   "execution_count": 3,
   "metadata": {},
   "outputs": [],
   "source": [
    "#Read in exits feature class as a geodataframe\n",
    "exits_gdf = gpd.read_file('../Data/MJBA/MJBA_Exits.shp')"
   ]
  },
  {
   "cell_type": "code",
   "execution_count": 4,
   "metadata": {
    "scrolled": true
   },
   "outputs": [
    {
     "data": {
      "text/html": [
       "<div>\n",
       "<style scoped>\n",
       "    .dataframe tbody tr th:only-of-type {\n",
       "        vertical-align: middle;\n",
       "    }\n",
       "\n",
       "    .dataframe tbody tr th {\n",
       "        vertical-align: top;\n",
       "    }\n",
       "\n",
       "    .dataframe thead th {\n",
       "        text-align: right;\n",
       "    }\n",
       "</style>\n",
       "<table border=\"1\" class=\"dataframe\">\n",
       "  <thead>\n",
       "    <tr style=\"text-align: right;\">\n",
       "      <th></th>\n",
       "      <th>FID</th>\n",
       "      <th>Exit_ID</th>\n",
       "      <th>Longitude</th>\n",
       "      <th>Latitude</th>\n",
       "      <th>County</th>\n",
       "      <th>State</th>\n",
       "      <th>Highway</th>\n",
       "      <th>Type</th>\n",
       "      <th>AADT</th>\n",
       "      <th>Pop_dens</th>\n",
       "      <th>Comm_1mi</th>\n",
       "      <th>Ports_5mi</th>\n",
       "      <th>Ports_10mi</th>\n",
       "      <th>Ports_20mi</th>\n",
       "      <th>Close_nonT</th>\n",
       "      <th>geometry</th>\n",
       "    </tr>\n",
       "  </thead>\n",
       "  <tbody>\n",
       "    <tr>\n",
       "      <th>0</th>\n",
       "      <td>7059</td>\n",
       "      <td>US-64_Cherokee_NC_Exit_1</td>\n",
       "      <td>-84.314304</td>\n",
       "      <td>35.019492</td>\n",
       "      <td>Cherokee</td>\n",
       "      <td>NC</td>\n",
       "      <td>U.S. Highway 64</td>\n",
       "      <td>Exit/Intersection</td>\n",
       "      <td>3700</td>\n",
       "      <td>60.349790</td>\n",
       "      <td>1</td>\n",
       "      <td>0</td>\n",
       "      <td>0</td>\n",
       "      <td>0</td>\n",
       "      <td>34.094152</td>\n",
       "      <td>POINT (-84.31430 35.01949)</td>\n",
       "    </tr>\n",
       "    <tr>\n",
       "      <th>1</th>\n",
       "      <td>7060</td>\n",
       "      <td>US-64_Cherokee_NC_Exit_2</td>\n",
       "      <td>-84.311492</td>\n",
       "      <td>35.014933</td>\n",
       "      <td>Cherokee</td>\n",
       "      <td>NC</td>\n",
       "      <td>U.S. Highway 64</td>\n",
       "      <td>Exit/Intersection</td>\n",
       "      <td>3700</td>\n",
       "      <td>60.349790</td>\n",
       "      <td>1</td>\n",
       "      <td>0</td>\n",
       "      <td>0</td>\n",
       "      <td>0</td>\n",
       "      <td>34.365230</td>\n",
       "      <td>POINT (-84.31149 35.01493)</td>\n",
       "    </tr>\n",
       "    <tr>\n",
       "      <th>2</th>\n",
       "      <td>7061</td>\n",
       "      <td>US-64_Cherokee_NC_Exit_3</td>\n",
       "      <td>-84.295528</td>\n",
       "      <td>35.013561</td>\n",
       "      <td>Cherokee</td>\n",
       "      <td>NC</td>\n",
       "      <td>U.S. Highway 64</td>\n",
       "      <td>Exit/Intersection</td>\n",
       "      <td>3900</td>\n",
       "      <td>60.349790</td>\n",
       "      <td>0</td>\n",
       "      <td>0</td>\n",
       "      <td>0</td>\n",
       "      <td>0</td>\n",
       "      <td>35.233979</td>\n",
       "      <td>POINT (-84.29553 35.01356)</td>\n",
       "    </tr>\n",
       "    <tr>\n",
       "      <th>3</th>\n",
       "      <td>7062</td>\n",
       "      <td>US-64_Cherokee_NC_Exit_4</td>\n",
       "      <td>-84.280291</td>\n",
       "      <td>35.012880</td>\n",
       "      <td>Cherokee</td>\n",
       "      <td>NC</td>\n",
       "      <td>U.S. Highway 64</td>\n",
       "      <td>Exit/Intersection</td>\n",
       "      <td>3900</td>\n",
       "      <td>60.349790</td>\n",
       "      <td>0</td>\n",
       "      <td>0</td>\n",
       "      <td>0</td>\n",
       "      <td>0</td>\n",
       "      <td>36.048303</td>\n",
       "      <td>POINT (-84.28029 35.01288)</td>\n",
       "    </tr>\n",
       "    <tr>\n",
       "      <th>4</th>\n",
       "      <td>7063</td>\n",
       "      <td>US-64_Cherokee_NC_Exit_5</td>\n",
       "      <td>-84.275190</td>\n",
       "      <td>35.017816</td>\n",
       "      <td>Cherokee</td>\n",
       "      <td>NC</td>\n",
       "      <td>U.S. Highway 64</td>\n",
       "      <td>Exit/Intersection</td>\n",
       "      <td>3900</td>\n",
       "      <td>60.349790</td>\n",
       "      <td>0</td>\n",
       "      <td>0</td>\n",
       "      <td>0</td>\n",
       "      <td>0</td>\n",
       "      <td>36.186597</td>\n",
       "      <td>POINT (-84.27519 35.01782)</td>\n",
       "    </tr>\n",
       "    <tr>\n",
       "      <th>...</th>\n",
       "      <td>...</td>\n",
       "      <td>...</td>\n",
       "      <td>...</td>\n",
       "      <td>...</td>\n",
       "      <td>...</td>\n",
       "      <td>...</td>\n",
       "      <td>...</td>\n",
       "      <td>...</td>\n",
       "      <td>...</td>\n",
       "      <td>...</td>\n",
       "      <td>...</td>\n",
       "      <td>...</td>\n",
       "      <td>...</td>\n",
       "      <td>...</td>\n",
       "      <td>...</td>\n",
       "      <td>...</td>\n",
       "    </tr>\n",
       "    <tr>\n",
       "      <th>1173</th>\n",
       "      <td>8232</td>\n",
       "      <td>I-40_Johnston_NC_Exit_5</td>\n",
       "      <td>-78.518206</td>\n",
       "      <td>35.389884</td>\n",
       "      <td>Johnston</td>\n",
       "      <td>NC</td>\n",
       "      <td>Interstate 40</td>\n",
       "      <td>Exit/Intersection</td>\n",
       "      <td>43000</td>\n",
       "      <td>193.947851</td>\n",
       "      <td>1</td>\n",
       "      <td>0</td>\n",
       "      <td>0</td>\n",
       "      <td>0</td>\n",
       "      <td>28.009339</td>\n",
       "      <td>POINT (-78.51821 35.38988)</td>\n",
       "    </tr>\n",
       "    <tr>\n",
       "      <th>1174</th>\n",
       "      <td>8233</td>\n",
       "      <td>US-70_Johnston_NC_Exit_9</td>\n",
       "      <td>-78.289842</td>\n",
       "      <td>35.519484</td>\n",
       "      <td>Johnston</td>\n",
       "      <td>NC</td>\n",
       "      <td>U.S. Highway 70</td>\n",
       "      <td>Exit/Intersection</td>\n",
       "      <td>24000</td>\n",
       "      <td>404.640825</td>\n",
       "      <td>23</td>\n",
       "      <td>0</td>\n",
       "      <td>0</td>\n",
       "      <td>0</td>\n",
       "      <td>24.068087</td>\n",
       "      <td>POINT (-78.28984 35.51948)</td>\n",
       "    </tr>\n",
       "    <tr>\n",
       "      <th>1175</th>\n",
       "      <td>8234</td>\n",
       "      <td>I-85_Davidson_NC_Exit_8</td>\n",
       "      <td>-80.181938</td>\n",
       "      <td>35.809700</td>\n",
       "      <td>Davidson</td>\n",
       "      <td>NC</td>\n",
       "      <td>Interstate 85</td>\n",
       "      <td>Exit/Intersection</td>\n",
       "      <td>60000</td>\n",
       "      <td>117.395374</td>\n",
       "      <td>3</td>\n",
       "      <td>0</td>\n",
       "      <td>0</td>\n",
       "      <td>2</td>\n",
       "      <td>18.950338</td>\n",
       "      <td>POINT (-80.18194 35.80970)</td>\n",
       "    </tr>\n",
       "    <tr>\n",
       "      <th>1176</th>\n",
       "      <td>8235</td>\n",
       "      <td>I-40_Iredell_NC_Exit_6</td>\n",
       "      <td>-80.831572</td>\n",
       "      <td>35.814640</td>\n",
       "      <td>Iredell</td>\n",
       "      <td>NC</td>\n",
       "      <td>Interstate 40</td>\n",
       "      <td>Exit/Intersection</td>\n",
       "      <td>36000</td>\n",
       "      <td>165.824902</td>\n",
       "      <td>6</td>\n",
       "      <td>0</td>\n",
       "      <td>0</td>\n",
       "      <td>2</td>\n",
       "      <td>19.302607</td>\n",
       "      <td>POINT (-80.83157 35.81464)</td>\n",
       "    </tr>\n",
       "    <tr>\n",
       "      <th>1177</th>\n",
       "      <td>8236</td>\n",
       "      <td>US-64_Henderson_NC_Exit_35</td>\n",
       "      <td>-82.440502</td>\n",
       "      <td>35.340835</td>\n",
       "      <td>Henderson</td>\n",
       "      <td>NC</td>\n",
       "      <td>U.S. Highway 64</td>\n",
       "      <td>Exit/Intersection</td>\n",
       "      <td>36000</td>\n",
       "      <td>834.396634</td>\n",
       "      <td>40</td>\n",
       "      <td>0</td>\n",
       "      <td>0</td>\n",
       "      <td>14</td>\n",
       "      <td>11.914067</td>\n",
       "      <td>POINT (-82.44050 35.34083)</td>\n",
       "    </tr>\n",
       "  </tbody>\n",
       "</table>\n",
       "<p>1178 rows × 16 columns</p>\n",
       "</div>"
      ],
      "text/plain": [
       "       FID                     Exit_ID  Longitude   Latitude     County State  \\\n",
       "0     7059    US-64_Cherokee_NC_Exit_1 -84.314304  35.019492   Cherokee    NC   \n",
       "1     7060    US-64_Cherokee_NC_Exit_2 -84.311492  35.014933   Cherokee    NC   \n",
       "2     7061    US-64_Cherokee_NC_Exit_3 -84.295528  35.013561   Cherokee    NC   \n",
       "3     7062    US-64_Cherokee_NC_Exit_4 -84.280291  35.012880   Cherokee    NC   \n",
       "4     7063    US-64_Cherokee_NC_Exit_5 -84.275190  35.017816   Cherokee    NC   \n",
       "...    ...                         ...        ...        ...        ...   ...   \n",
       "1173  8232     I-40_Johnston_NC_Exit_5 -78.518206  35.389884   Johnston    NC   \n",
       "1174  8233    US-70_Johnston_NC_Exit_9 -78.289842  35.519484   Johnston    NC   \n",
       "1175  8234     I-85_Davidson_NC_Exit_8 -80.181938  35.809700   Davidson    NC   \n",
       "1176  8235      I-40_Iredell_NC_Exit_6 -80.831572  35.814640    Iredell    NC   \n",
       "1177  8236  US-64_Henderson_NC_Exit_35 -82.440502  35.340835  Henderson    NC   \n",
       "\n",
       "              Highway               Type   AADT    Pop_dens  Comm_1mi  \\\n",
       "0     U.S. Highway 64  Exit/Intersection   3700   60.349790         1   \n",
       "1     U.S. Highway 64  Exit/Intersection   3700   60.349790         1   \n",
       "2     U.S. Highway 64  Exit/Intersection   3900   60.349790         0   \n",
       "3     U.S. Highway 64  Exit/Intersection   3900   60.349790         0   \n",
       "4     U.S. Highway 64  Exit/Intersection   3900   60.349790         0   \n",
       "...               ...                ...    ...         ...       ...   \n",
       "1173    Interstate 40  Exit/Intersection  43000  193.947851         1   \n",
       "1174  U.S. Highway 70  Exit/Intersection  24000  404.640825        23   \n",
       "1175    Interstate 85  Exit/Intersection  60000  117.395374         3   \n",
       "1176    Interstate 40  Exit/Intersection  36000  165.824902         6   \n",
       "1177  U.S. Highway 64  Exit/Intersection  36000  834.396634        40   \n",
       "\n",
       "      Ports_5mi  Ports_10mi  Ports_20mi  Close_nonT  \\\n",
       "0             0           0           0   34.094152   \n",
       "1             0           0           0   34.365230   \n",
       "2             0           0           0   35.233979   \n",
       "3             0           0           0   36.048303   \n",
       "4             0           0           0   36.186597   \n",
       "...         ...         ...         ...         ...   \n",
       "1173          0           0           0   28.009339   \n",
       "1174          0           0           0   24.068087   \n",
       "1175          0           0           2   18.950338   \n",
       "1176          0           0           2   19.302607   \n",
       "1177          0           0          14   11.914067   \n",
       "\n",
       "                        geometry  \n",
       "0     POINT (-84.31430 35.01949)  \n",
       "1     POINT (-84.31149 35.01493)  \n",
       "2     POINT (-84.29553 35.01356)  \n",
       "3     POINT (-84.28029 35.01288)  \n",
       "4     POINT (-84.27519 35.01782)  \n",
       "...                          ...  \n",
       "1173  POINT (-78.51821 35.38988)  \n",
       "1174  POINT (-78.28984 35.51948)  \n",
       "1175  POINT (-80.18194 35.80970)  \n",
       "1176  POINT (-80.83157 35.81464)  \n",
       "1177  POINT (-82.44050 35.34083)  \n",
       "\n",
       "[1178 rows x 16 columns]"
      ]
     },
     "execution_count": 4,
     "metadata": {},
     "output_type": "execute_result"
    }
   ],
   "source": [
    "exits_gdf"
   ]
  },
  {
   "cell_type": "code",
   "execution_count": 5,
   "metadata": {},
   "outputs": [
    {
     "data": {
      "text/plain": [
       "(1178, 16)"
      ]
     },
     "execution_count": 5,
     "metadata": {},
     "output_type": "execute_result"
    }
   ],
   "source": [
    "exits_gdf.shape"
   ]
  },
  {
   "cell_type": "code",
   "execution_count": 6,
   "metadata": {
    "collapsed": true
   },
   "outputs": [
    {
     "data": {
      "text/plain": [
       "<Geographic 2D CRS: EPSG:4326>\n",
       "Name: WGS 84\n",
       "Axis Info [ellipsoidal]:\n",
       "- Lat[north]: Geodetic latitude (degree)\n",
       "- Lon[east]: Geodetic longitude (degree)\n",
       "Area of Use:\n",
       "- name: World\n",
       "- bounds: (-180.0, -90.0, 180.0, 90.0)\n",
       "Datum: World Geodetic System 1984\n",
       "- Ellipsoid: WGS 84\n",
       "- Prime Meridian: Greenwich"
      ]
     },
     "execution_count": 6,
     "metadata": {},
     "output_type": "execute_result"
    }
   ],
   "source": [
    "#Reveal cordinate reference of the exit features\n",
    "exits_gdf.crs"
   ]
  },
  {
   "cell_type": "code",
   "execution_count": 7,
   "metadata": {},
   "outputs": [
    {
     "name": "stdout",
     "output_type": "stream",
     "text": [
      "epsg:4326\n"
     ]
    }
   ],
   "source": [
    "print(exits_gdf.crs)"
   ]
  },
  {
   "cell_type": "code",
   "execution_count": 8,
   "metadata": {},
   "outputs": [
    {
     "name": "stdout",
     "output_type": "stream",
     "text": [
      "epsg:32617\n"
     ]
    }
   ],
   "source": [
    "#Transform exits to the projected UT ,17N\n",
    "exits_gdf = exits_gdf.to_crs(32617)\n",
    "print(exits_gdf.crs)"
   ]
  },
  {
   "cell_type": "code",
   "execution_count": 9,
   "metadata": {},
   "outputs": [
    {
     "data": {
      "text/plain": [
       "0       POINT (197578.012 3880227.389)\n",
       "1       POINT (197817.907 3879713.054)\n",
       "2       POINT (199270.172 3879512.464)\n",
       "3       POINT (200658.638 3879391.092)\n",
       "4       POINT (201142.266 3879923.503)\n",
       "                     ...              \n",
       "1173    POINT (725411.781 3919109.433)\n",
       "1174    POINT (745763.262 3934032.757)\n",
       "1175    POINT (573907.493 3963150.415)\n",
       "1176    POINT (515215.435 3963402.749)\n",
       "1177    POINT (369094.559 3911793.401)\n",
       "Name: geometry, Length: 1178, dtype: geometry"
      ]
     },
     "execution_count": 9,
     "metadata": {},
     "output_type": "execute_result"
    }
   ],
   "source": [
    "exits_gdf['geometry'] "
   ]
  },
  {
   "cell_type": "code",
   "execution_count": 10,
   "metadata": {},
   "outputs": [],
   "source": [
    "#Buffer the exits 1 mile (1609.34 m); \n",
    "exits_gdf['geometry'] = exits_gdf['geometry'].buffer(1609.34)"
   ]
  },
  {
   "cell_type": "code",
   "execution_count": 11,
   "metadata": {},
   "outputs": [
    {
     "data": {
      "text/plain": [
       "0       POLYGON ((199187.352 3880227.389, 199179.602 3...\n",
       "1       POLYGON ((199427.247 3879713.054, 199419.497 3...\n",
       "2       POLYGON ((200879.512 3879512.464, 200871.763 3...\n",
       "3       POLYGON ((202267.978 3879391.092, 202260.229 3...\n",
       "4       POLYGON ((202751.606 3879923.503, 202743.857 3...\n",
       "                              ...                        \n",
       "1173    POLYGON ((727021.121 3919109.433, 727013.371 3...\n",
       "1174    POLYGON ((747372.602 3934032.757, 747364.852 3...\n",
       "1175    POLYGON ((575516.833 3963150.415, 575509.083 3...\n",
       "1176    POLYGON ((516824.775 3963402.749, 516817.026 3...\n",
       "1177    POLYGON ((370703.899 3911793.401, 370696.150 3...\n",
       "Name: geometry, Length: 1178, dtype: geometry"
      ]
     },
     "execution_count": 11,
     "metadata": {},
     "output_type": "execute_result"
    }
   ],
   "source": [
    "exits_gdf['geometry']"
   ]
  },
  {
   "cell_type": "code",
   "execution_count": 12,
   "metadata": {},
   "outputs": [],
   "source": [
    "#Transform the buffered features to WGS 84\n",
    "exits_gdf_wgs84 = exits_gdf.to_crs(4326)"
   ]
  },
  {
   "cell_type": "code",
   "execution_count": 13,
   "metadata": {},
   "outputs": [
    {
     "data": {
      "text/plain": [
       "shapely.geometry.multipolygon.MultiPolygon"
      ]
     },
     "execution_count": 13,
     "metadata": {},
     "output_type": "execute_result"
    }
   ],
   "source": [
    "#Combine features into a single multipolygon\n",
    "theSearchArea = exits_gdf_wgs84.unary_union\n",
    "type(theSearchArea)"
   ]
  },
  {
   "cell_type": "code",
   "execution_count": 14,
   "metadata": {},
   "outputs": [],
   "source": [
    "#Extract restaurants in search area \n",
    "theAmenities = ox.pois.create_poi_gdf(polygon=theSearchArea,\n",
    "                                      amenities=['restaurant','cafes'])"
   ]
  },
  {
   "cell_type": "code",
   "execution_count": 15,
   "metadata": {},
   "outputs": [],
   "source": [
    "#Save the data to a CSV\n",
    "theAmenities.to_csv('../Data/OSM/Amenities_1mile.csv')"
   ]
  },
  {
   "cell_type": "code",
   "execution_count": 16,
   "metadata": {},
   "outputs": [
    {
     "data": {
      "text/plain": [
       "266302295                           POINT (-78.91896 36.01642)\n",
       "300269657                           POINT (-78.91903 36.01573)\n",
       "315602700                           POINT (-78.92986 35.92007)\n",
       "315605227                           POINT (-78.92964 35.92044)\n",
       "368983251                           POINT (-78.91806 36.02307)\n",
       "                                   ...                        \n",
       "6002674      MULTIPOLYGON (((-81.70400 35.72992, -81.70407 ...\n",
       "9045998      MULTIPOLYGON (((-82.53762 35.44451, -82.53762 ...\n",
       "9046004      MULTIPOLYGON (((-82.53749 35.44505, -82.53748 ...\n",
       "9046077      MULTIPOLYGON (((-82.53448 35.44572, -82.53449 ...\n",
       "9046139      MULTIPOLYGON (((-82.53444 35.44604, -82.53441 ...\n",
       "Name: geometry, Length: 1398, dtype: geometry"
      ]
     },
     "execution_count": 16,
     "metadata": {},
     "output_type": "execute_result"
    }
   ],
   "source": [
    "theAmenities['geometry']"
   ]
  },
  {
   "cell_type": "code",
   "execution_count": 17,
   "metadata": {},
   "outputs": [
    {
     "data": {
      "text/plain": [
       "array(['Point', 'Polygon', 'MultiPolygon'], dtype=object)"
      ]
     },
     "execution_count": 17,
     "metadata": {},
     "output_type": "execute_result"
    }
   ],
   "source": [
    "#List the unique types of features\n",
    "theAmenities['geometry'].type.unique()"
   ]
  },
  {
   "cell_type": "code",
   "execution_count": 18,
   "metadata": {},
   "outputs": [],
   "source": [
    "#Parse the dataframe to three, based on geometry type\n",
    "theAmenities_points = theAmenities.loc[theAmenities['geometry'].type == 'Point'].reset_index()\n",
    "#polys=anything else\n",
    "theAmenities_polys = theAmenities.loc[theAmenities['geometry'].type != 'Point'].reset_index()"
   ]
  },
  {
   "cell_type": "code",
   "execution_count": 19,
   "metadata": {},
   "outputs": [],
   "source": [
    "#Change theAmenities_polys to points by taking their centroids\n",
    "theAmenities_polys['geometry'] = theAmenities_polys['geometry'].centroid"
   ]
  },
  {
   "cell_type": "code",
   "execution_count": 20,
   "metadata": {},
   "outputs": [
    {
     "data": {
      "text/plain": [
       "array(['Point'], dtype=object)"
      ]
     },
     "execution_count": 20,
     "metadata": {},
     "output_type": "execute_result"
    }
   ],
   "source": [
    "theAmenities_polys['geometry'].type.unique()"
   ]
  },
  {
   "cell_type": "code",
   "execution_count": 21,
   "metadata": {},
   "outputs": [],
   "source": [
    "#Append the three together\n",
    "import pandas as pd"
   ]
  },
  {
   "cell_type": "code",
   "execution_count": 22,
   "metadata": {},
   "outputs": [
    {
     "data": {
      "text/plain": [
       "(1398, 209)"
      ]
     },
     "execution_count": 22,
     "metadata": {},
     "output_type": "execute_result"
    }
   ],
   "source": [
    "theAmenities_all = pd.concat([theAmenities_points,theAmenities_polys])\n",
    "theAmenities_all.shape"
   ]
  },
  {
   "cell_type": "code",
   "execution_count": 23,
   "metadata": {},
   "outputs": [],
   "source": [
    "#Save to a shapefile, selecting only the amenity type as an attribute\n",
    "theAmenities_all[['amenity','geometry']].to_file('../Data/OSM/OSM_amenities.shp')"
   ]
  },
  {
   "cell_type": "code",
   "execution_count": 25,
   "metadata": {},
   "outputs": [
    {
     "data": {
      "text/html": [
       "<div>\n",
       "<style scoped>\n",
       "    .dataframe tbody tr th:only-of-type {\n",
       "        vertical-align: middle;\n",
       "    }\n",
       "\n",
       "    .dataframe tbody tr th {\n",
       "        vertical-align: top;\n",
       "    }\n",
       "\n",
       "    .dataframe thead th {\n",
       "        text-align: right;\n",
       "    }\n",
       "</style>\n",
       "<table border=\"1\" class=\"dataframe\">\n",
       "  <thead>\n",
       "    <tr style=\"text-align: right;\">\n",
       "      <th></th>\n",
       "      <th>amenity</th>\n",
       "      <th>geometry</th>\n",
       "    </tr>\n",
       "  </thead>\n",
       "  <tbody>\n",
       "    <tr>\n",
       "      <th>0</th>\n",
       "      <td>restaurant</td>\n",
       "      <td>POINT (-78.91896 36.01642)</td>\n",
       "    </tr>\n",
       "    <tr>\n",
       "      <th>1</th>\n",
       "      <td>restaurant</td>\n",
       "      <td>POINT (-78.91903 36.01573)</td>\n",
       "    </tr>\n",
       "    <tr>\n",
       "      <th>2</th>\n",
       "      <td>restaurant</td>\n",
       "      <td>POINT (-78.92986 35.92007)</td>\n",
       "    </tr>\n",
       "    <tr>\n",
       "      <th>3</th>\n",
       "      <td>restaurant</td>\n",
       "      <td>POINT (-78.92964 35.92044)</td>\n",
       "    </tr>\n",
       "    <tr>\n",
       "      <th>4</th>\n",
       "      <td>restaurant</td>\n",
       "      <td>POINT (-78.91806 36.02307)</td>\n",
       "    </tr>\n",
       "    <tr>\n",
       "      <th>...</th>\n",
       "      <td>...</td>\n",
       "      <td>...</td>\n",
       "    </tr>\n",
       "    <tr>\n",
       "      <th>528</th>\n",
       "      <td>restaurant</td>\n",
       "      <td>POINT (-81.70424 35.72993)</td>\n",
       "    </tr>\n",
       "    <tr>\n",
       "      <th>529</th>\n",
       "      <td>restaurant</td>\n",
       "      <td>POINT (-82.53782 35.44455)</td>\n",
       "    </tr>\n",
       "    <tr>\n",
       "      <th>530</th>\n",
       "      <td>restaurant</td>\n",
       "      <td>POINT (-82.53754 35.44517)</td>\n",
       "    </tr>\n",
       "    <tr>\n",
       "      <th>531</th>\n",
       "      <td>restaurant</td>\n",
       "      <td>POINT (-82.53435 35.44565)</td>\n",
       "    </tr>\n",
       "    <tr>\n",
       "      <th>532</th>\n",
       "      <td>restaurant</td>\n",
       "      <td>POINT (-82.53427 35.44611)</td>\n",
       "    </tr>\n",
       "  </tbody>\n",
       "</table>\n",
       "<p>1398 rows × 2 columns</p>\n",
       "</div>"
      ],
      "text/plain": [
       "        amenity                    geometry\n",
       "0    restaurant  POINT (-78.91896 36.01642)\n",
       "1    restaurant  POINT (-78.91903 36.01573)\n",
       "2    restaurant  POINT (-78.92986 35.92007)\n",
       "3    restaurant  POINT (-78.92964 35.92044)\n",
       "4    restaurant  POINT (-78.91806 36.02307)\n",
       "..          ...                         ...\n",
       "528  restaurant  POINT (-81.70424 35.72993)\n",
       "529  restaurant  POINT (-82.53782 35.44455)\n",
       "530  restaurant  POINT (-82.53754 35.44517)\n",
       "531  restaurant  POINT (-82.53435 35.44565)\n",
       "532  restaurant  POINT (-82.53427 35.44611)\n",
       "\n",
       "[1398 rows x 2 columns]"
      ]
     },
     "execution_count": 25,
     "metadata": {},
     "output_type": "execute_result"
    }
   ],
   "source": [
    "theAmenities_all[['amenity','geometry']]"
   ]
  },
  {
   "cell_type": "markdown",
   "metadata": {},
   "source": [
    "### Count amenities near a feature"
   ]
  },
  {
   "cell_type": "code",
   "execution_count": 27,
   "metadata": {},
   "outputs": [
    {
     "data": {
      "image/svg+xml": [
       "<svg xmlns=\"http://www.w3.org/2000/svg\" xmlns:xlink=\"http://www.w3.org/1999/xlink\" width=\"100.0\" height=\"100.0\" viewBox=\"-83.22448422363242 35.04139686163764 0.038092645246806 0.031824097926957506\" preserveAspectRatio=\"xMinYMin meet\"><g transform=\"matrix(1,0,0,-1,0,70.11461782120223)\"><path fill-rule=\"evenodd\" fill=\"#66cc99\" stroke=\"#555555\" stroke-width=\"0.00076185290493612\" opacity=\"0.6\" d=\"M -83.18780241709845,35.05762842680105 L -83.18784940566002,35.056205510451406 L -83.18806577755002,35.054793232667855 L -83.18844944035371,35.053405193884004 L -83.18899669107232,35.05205476041793 L -83.1897022520967,35.050754935795645 L -83.19055932231316,35.04951823559264 L -83.19155964283894,35.04835656699609 L -83.19269357674486,35.04728111424401 L -83.19395020199043,35.04630223104045 L -83.1953174166718,35.045429340977726 L -83.196782055566,35.04467084691997 L -83.19833001685005,35.04403405021485 L -83.19994639777637,35.0435250805068 L -83.20161563800376,35.04314883682244 L -83.20332166921038,35.042908940491174 L -83.2050480695573,35.04280770035048 L -83.20677822152611,35.042846090567934 L -83.20849547162216,35.0430237412913 L -83.21018329041854,35.04333894221552 L -83.21182543141221,35.0437886590322 L -83.21340608717514,35.04436856260365 L -83.21491004130871,35.04507307058282 L -83.21632281474854,35.04589540108065 L -83.21763080501997,35.04682763786777 L -83.21882141711016,35.04786080648702 L -83.21988318470149,35.04898496054823 L -83.2208058806008,35.05018927737956 L -83.22158061530142,35.05146216211962 L -83.22219992272579,35.05279135925295 L -83.22265783231799,35.05416407051957 L -83.22294992678479,35.055567078067995 L -83.22307338491957,35.0569868716691 L -83.22302700908622,35.05840977876935 L -83.22281123708593,35.05982209613252 L -83.22242813828004,35.06121022180401 L -83.22188139399321,35.062560786126696 L -83.22117626237271,35.0638607805458 L -83.22031952803044,35.06509768296064 L -83.21931943694173,35.0662595784132 L -83.21818561721864,35.06733527394748 L -83.21692898651361,35.06831440652946 L -83.21556164694034,35.06918754298333 L -83.2140967685213,35.06994627097632 L -83.21254846228429,35.07058328017071 L -83.2109316442332,35.07109243275627 L -83.20926189150772,35.07146882267846 L -83.20755529212471,35.07170882298806 L -83.20582828975779,35.07181012085175 L -83.20409752506067,35.071771739883715 L -83.2023796750748,35.071594049580725 L -83.20069129228054,35.07127876176883 L -83.19904864485505,35.07082891409553 L -83.19746755968826,35.07024884072723 L -83.19596326968053,35.06954413053618 L -83.19455026680372,35.06872157318232 L -83.19324216234958,35.06778909361298 L -83.19205155571893,35.06675567561531 L -83.19098991301959,35.065631275162986 L -83.19006745664518,35.06442672439647 L -83.18929306689756,35.06315362716713 L -83.18867419659796,35.06182424715635 L -83.1882167995038,35.0604513896519 L -83.18792527321332,35.05904827812518 L -83.18780241709845,35.05762842680105 z\" /></g></svg>"
      ],
      "text/plain": [
       "<shapely.geometry.polygon.Polygon at 0x7fadcd6785c0>"
      ]
     },
     "execution_count": 27,
     "metadata": {},
     "output_type": "execute_result"
    }
   ],
   "source": [
    "#Get the area around one exit feature (the 56th one, just to grab one I know has amenities)\n",
    "theArea = exits_gdf_wgs84.at[56,'geometry']\n",
    "theArea"
   ]
  },
  {
   "cell_type": "code",
   "execution_count": 30,
   "metadata": {},
   "outputs": [
    {
     "data": {
      "text/plain": [
       "2"
      ]
     },
     "execution_count": 30,
     "metadata": {},
     "output_type": "execute_result"
    }
   ],
   "source": [
    "#Count returns the number of \"trues\" within this mask\n",
    "theAmenities_all.within(theArea).sum()"
   ]
  },
  {
   "cell_type": "code",
   "execution_count": 31,
   "metadata": {},
   "outputs": [],
   "source": [
    "#Define a function\n",
    "def get_amenity_count(theShape):\n",
    "    return theAmenities_all.within(theShape).sum()"
   ]
  },
  {
   "cell_type": "code",
   "execution_count": 32,
   "metadata": {},
   "outputs": [],
   "source": [
    "#Apply the function to the get\n",
    "amenity_count = exits_gdf_wgs84['geometry'].apply(get_amenity_count)"
   ]
  },
  {
   "cell_type": "code",
   "execution_count": 33,
   "metadata": {},
   "outputs": [
    {
     "data": {
      "image/png": "[encoded data removed]",
      "text/plain": [
       "<Figure size 432x288 with 1 Axes>"
      ]
     },
     "metadata": {
      "needs_background": "light"
     },
     "output_type": "display_data"
    }
   ],
   "source": [
    "#Plot a histogram of the counts\n",
    "amenity_count.hist();"
   ]
  },
  {
   "cell_type": "code",
   "execution_count": 34,
   "metadata": {},
   "outputs": [
    {
     "data": {
      "text/html": [
       "<div>\n",
       "<style scoped>\n",
       "    .dataframe tbody tr th:only-of-type {\n",
       "        vertical-align: middle;\n",
       "    }\n",
       "\n",
       "    .dataframe tbody tr th {\n",
       "        vertical-align: top;\n",
       "    }\n",
       "\n",
       "    .dataframe thead th {\n",
       "        text-align: right;\n",
       "    }\n",
       "</style>\n",
       "<table border=\"1\" class=\"dataframe\">\n",
       "  <thead>\n",
       "    <tr style=\"text-align: right;\">\n",
       "      <th></th>\n",
       "      <th>FID</th>\n",
       "      <th>Exit_ID</th>\n",
       "      <th>Longitude</th>\n",
       "      <th>Latitude</th>\n",
       "      <th>County</th>\n",
       "      <th>State</th>\n",
       "      <th>Highway</th>\n",
       "      <th>Type</th>\n",
       "      <th>AADT</th>\n",
       "      <th>Pop_dens</th>\n",
       "      <th>Comm_1mi</th>\n",
       "      <th>Ports_5mi</th>\n",
       "      <th>Ports_10mi</th>\n",
       "      <th>Ports_20mi</th>\n",
       "      <th>Close_nonT</th>\n",
       "      <th>geometry</th>\n",
       "      <th>amenity_n</th>\n",
       "    </tr>\n",
       "  </thead>\n",
       "  <tbody>\n",
       "    <tr>\n",
       "      <th>0</th>\n",
       "      <td>7059</td>\n",
       "      <td>US-64_Cherokee_NC_Exit_1</td>\n",
       "      <td>-84.314304</td>\n",
       "      <td>35.019492</td>\n",
       "      <td>Cherokee</td>\n",
       "      <td>NC</td>\n",
       "      <td>U.S. Highway 64</td>\n",
       "      <td>Exit/Intersection</td>\n",
       "      <td>3700</td>\n",
       "      <td>60.34979</td>\n",
       "      <td>1</td>\n",
       "      <td>0</td>\n",
       "      <td>0</td>\n",
       "      <td>0</td>\n",
       "      <td>34.094152</td>\n",
       "      <td>POINT (-84.31430 35.01949)</td>\n",
       "      <td>0</td>\n",
       "    </tr>\n",
       "    <tr>\n",
       "      <th>1</th>\n",
       "      <td>7060</td>\n",
       "      <td>US-64_Cherokee_NC_Exit_2</td>\n",
       "      <td>-84.311492</td>\n",
       "      <td>35.014933</td>\n",
       "      <td>Cherokee</td>\n",
       "      <td>NC</td>\n",
       "      <td>U.S. Highway 64</td>\n",
       "      <td>Exit/Intersection</td>\n",
       "      <td>3700</td>\n",
       "      <td>60.34979</td>\n",
       "      <td>1</td>\n",
       "      <td>0</td>\n",
       "      <td>0</td>\n",
       "      <td>0</td>\n",
       "      <td>34.365230</td>\n",
       "      <td>POINT (-84.31149 35.01493)</td>\n",
       "      <td>0</td>\n",
       "    </tr>\n",
       "    <tr>\n",
       "      <th>2</th>\n",
       "      <td>7061</td>\n",
       "      <td>US-64_Cherokee_NC_Exit_3</td>\n",
       "      <td>-84.295528</td>\n",
       "      <td>35.013561</td>\n",
       "      <td>Cherokee</td>\n",
       "      <td>NC</td>\n",
       "      <td>U.S. Highway 64</td>\n",
       "      <td>Exit/Intersection</td>\n",
       "      <td>3900</td>\n",
       "      <td>60.34979</td>\n",
       "      <td>0</td>\n",
       "      <td>0</td>\n",
       "      <td>0</td>\n",
       "      <td>0</td>\n",
       "      <td>35.233979</td>\n",
       "      <td>POINT (-84.29553 35.01356)</td>\n",
       "      <td>0</td>\n",
       "    </tr>\n",
       "    <tr>\n",
       "      <th>3</th>\n",
       "      <td>7062</td>\n",
       "      <td>US-64_Cherokee_NC_Exit_4</td>\n",
       "      <td>-84.280291</td>\n",
       "      <td>35.012880</td>\n",
       "      <td>Cherokee</td>\n",
       "      <td>NC</td>\n",
       "      <td>U.S. Highway 64</td>\n",
       "      <td>Exit/Intersection</td>\n",
       "      <td>3900</td>\n",
       "      <td>60.34979</td>\n",
       "      <td>0</td>\n",
       "      <td>0</td>\n",
       "      <td>0</td>\n",
       "      <td>0</td>\n",
       "      <td>36.048303</td>\n",
       "      <td>POINT (-84.28029 35.01288)</td>\n",
       "      <td>0</td>\n",
       "    </tr>\n",
       "    <tr>\n",
       "      <th>4</th>\n",
       "      <td>7063</td>\n",
       "      <td>US-64_Cherokee_NC_Exit_5</td>\n",
       "      <td>-84.275190</td>\n",
       "      <td>35.017816</td>\n",
       "      <td>Cherokee</td>\n",
       "      <td>NC</td>\n",
       "      <td>U.S. Highway 64</td>\n",
       "      <td>Exit/Intersection</td>\n",
       "      <td>3900</td>\n",
       "      <td>60.34979</td>\n",
       "      <td>0</td>\n",
       "      <td>0</td>\n",
       "      <td>0</td>\n",
       "      <td>0</td>\n",
       "      <td>36.186597</td>\n",
       "      <td>POINT (-84.27519 35.01782)</td>\n",
       "      <td>0</td>\n",
       "    </tr>\n",
       "  </tbody>\n",
       "</table>\n",
       "</div>"
      ],
      "text/plain": [
       "    FID                   Exit_ID  Longitude   Latitude    County State  \\\n",
       "0  7059  US-64_Cherokee_NC_Exit_1 -84.314304  35.019492  Cherokee    NC   \n",
       "1  7060  US-64_Cherokee_NC_Exit_2 -84.311492  35.014933  Cherokee    NC   \n",
       "2  7061  US-64_Cherokee_NC_Exit_3 -84.295528  35.013561  Cherokee    NC   \n",
       "3  7062  US-64_Cherokee_NC_Exit_4 -84.280291  35.012880  Cherokee    NC   \n",
       "4  7063  US-64_Cherokee_NC_Exit_5 -84.275190  35.017816  Cherokee    NC   \n",
       "\n",
       "           Highway               Type  AADT  Pop_dens  Comm_1mi  Ports_5mi  \\\n",
       "0  U.S. Highway 64  Exit/Intersection  3700  60.34979         1          0   \n",
       "1  U.S. Highway 64  Exit/Intersection  3700  60.34979         1          0   \n",
       "2  U.S. Highway 64  Exit/Intersection  3900  60.34979         0          0   \n",
       "3  U.S. Highway 64  Exit/Intersection  3900  60.34979         0          0   \n",
       "4  U.S. Highway 64  Exit/Intersection  3900  60.34979         0          0   \n",
       "\n",
       "   Ports_10mi  Ports_20mi  Close_nonT                    geometry  amenity_n  \n",
       "0           0           0   34.094152  POINT (-84.31430 35.01949)          0  \n",
       "1           0           0   34.365230  POINT (-84.31149 35.01493)          0  \n",
       "2           0           0   35.233979  POINT (-84.29553 35.01356)          0  \n",
       "3           0           0   36.048303  POINT (-84.28029 35.01288)          0  \n",
       "4           0           0   36.186597  POINT (-84.27519 35.01782)          0  "
      ]
     },
     "execution_count": 34,
     "metadata": {},
     "output_type": "execute_result"
    }
   ],
   "source": [
    "#Re-read in the exit features (since we modified them) and attach the amenity count data\n",
    "exits_gdf = gpd.read_file('../Data/MJBA/MJBA_Exits.shp')\n",
    "exits_gdf['amenity_n'] = amenity_count\n",
    "exits_gdf.head()"
   ]
  },
  {
   "cell_type": "code",
   "execution_count": 37,
   "metadata": {},
   "outputs": [],
   "source": [
    "#save the exits to a new feature class\n",
    "exits_gdf.to_file('../Data/Processed/exits_amenities.shp')"
   ]
  },
  {
   "cell_type": "code",
   "execution_count": 38,
   "metadata": {},
   "outputs": [],
   "source": [
    "#Import contextily \n",
    "import contextily as ctx"
   ]
  },
  {
   "cell_type": "code",
   "execution_count": 39,
   "metadata": {},
   "outputs": [],
   "source": [
    "#Transform to web mercator (to match contextily base maps)\n",
    "exits_gdf_wm = exits_gdf.to_crs(3857)"
   ]
  },
  {
   "cell_type": "code",
   "execution_count": null,
   "metadata": {},
   "outputs": [],
   "source": []
  }
 ],
 "metadata": {
  "kernelspec": {
   "display_name": "Python 3",
   "language": "python",
   "name": "python3"
  },
  "language_info": {
   "codemirror_mode": {
    "name": "ipython",
    "version": 3
   },
   "file_extension": ".py",
   "mimetype": "text/x-python",
   "name": "python",
   "nbconvert_exporter": "python",
   "pygments_lexer": "ipython3",
   "version": "3.7.3"
  }
 },
 "nbformat": 4,
 "nbformat_minor": 2
}
