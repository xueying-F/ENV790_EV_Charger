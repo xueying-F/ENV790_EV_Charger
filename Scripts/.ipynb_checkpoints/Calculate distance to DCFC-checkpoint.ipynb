{
 "cells": [
  {
   "cell_type": "markdown",
   "metadata": {},
   "source": [
    "## Calculate Euclidean distance to nearest charger "
   ]
  },
  {
   "cell_type": "code",
   "execution_count": 1,
   "metadata": {},
   "outputs": [],
   "source": [
    "#Import packages\n",
    "import pandas as pd\n",
    "import geopandas as gpd\n",
    "from shapely.geometry import Point\n",
    "from shapely.ops import nearest_points"
   ]
  },
  {
   "cell_type": "code",
   "execution_count": 2,
   "metadata": {},
   "outputs": [
    {
     "data": {
      "text/html": [
       "<div>\n",
       "<style scoped>\n",
       "    .dataframe tbody tr th:only-of-type {\n",
       "        vertical-align: middle;\n",
       "    }\n",
       "\n",
       "    .dataframe tbody tr th {\n",
       "        vertical-align: top;\n",
       "    }\n",
       "\n",
       "    .dataframe thead th {\n",
       "        text-align: right;\n",
       "    }\n",
       "</style>\n",
       "<table border=\"1\" class=\"dataframe\">\n",
       "  <thead>\n",
       "    <tr style=\"text-align: right;\">\n",
       "      <th></th>\n",
       "      <th>index</th>\n",
       "      <th>FID</th>\n",
       "      <th>Exit_ID</th>\n",
       "      <th>Longitude</th>\n",
       "      <th>Latitude</th>\n",
       "      <th>County</th>\n",
       "      <th>State</th>\n",
       "      <th>Highway</th>\n",
       "      <th>Type</th>\n",
       "      <th>AADT</th>\n",
       "      <th>Pop_dens</th>\n",
       "      <th>Comm_1mi</th>\n",
       "      <th>Ports_5mi</th>\n",
       "      <th>Ports_10mi</th>\n",
       "      <th>Ports_20mi</th>\n",
       "      <th>Close_nonT</th>\n",
       "      <th>Flood_Zone</th>\n",
       "      <th>geometry</th>\n",
       "    </tr>\n",
       "  </thead>\n",
       "  <tbody>\n",
       "    <tr>\n",
       "      <th>0</th>\n",
       "      <td>0</td>\n",
       "      <td>7059</td>\n",
       "      <td>US-64_Cherokee_NC_Exit_1</td>\n",
       "      <td>-84.314304</td>\n",
       "      <td>35.019492</td>\n",
       "      <td>Cherokee</td>\n",
       "      <td>NC</td>\n",
       "      <td>U.S. Highway 64</td>\n",
       "      <td>Exit/Intersection</td>\n",
       "      <td>3700</td>\n",
       "      <td>60.34979</td>\n",
       "      <td>1</td>\n",
       "      <td>0</td>\n",
       "      <td>0</td>\n",
       "      <td>0</td>\n",
       "      <td>34.094152</td>\n",
       "      <td>Area of Minimal Flood Hazard</td>\n",
       "      <td>POINT (-84.31430 35.01949)</td>\n",
       "    </tr>\n",
       "    <tr>\n",
       "      <th>1</th>\n",
       "      <td>1</td>\n",
       "      <td>7060</td>\n",
       "      <td>US-64_Cherokee_NC_Exit_2</td>\n",
       "      <td>-84.311492</td>\n",
       "      <td>35.014933</td>\n",
       "      <td>Cherokee</td>\n",
       "      <td>NC</td>\n",
       "      <td>U.S. Highway 64</td>\n",
       "      <td>Exit/Intersection</td>\n",
       "      <td>3700</td>\n",
       "      <td>60.34979</td>\n",
       "      <td>1</td>\n",
       "      <td>0</td>\n",
       "      <td>0</td>\n",
       "      <td>0</td>\n",
       "      <td>34.365230</td>\n",
       "      <td>Area of Minimal Flood Hazard</td>\n",
       "      <td>POINT (-84.31149 35.01493)</td>\n",
       "    </tr>\n",
       "    <tr>\n",
       "      <th>2</th>\n",
       "      <td>2</td>\n",
       "      <td>7061</td>\n",
       "      <td>US-64_Cherokee_NC_Exit_3</td>\n",
       "      <td>-84.295528</td>\n",
       "      <td>35.013561</td>\n",
       "      <td>Cherokee</td>\n",
       "      <td>NC</td>\n",
       "      <td>U.S. Highway 64</td>\n",
       "      <td>Exit/Intersection</td>\n",
       "      <td>3900</td>\n",
       "      <td>60.34979</td>\n",
       "      <td>0</td>\n",
       "      <td>0</td>\n",
       "      <td>0</td>\n",
       "      <td>0</td>\n",
       "      <td>35.233979</td>\n",
       "      <td>Area of Minimal Flood Hazard</td>\n",
       "      <td>POINT (-84.29553 35.01356)</td>\n",
       "    </tr>\n",
       "    <tr>\n",
       "      <th>3</th>\n",
       "      <td>3</td>\n",
       "      <td>7062</td>\n",
       "      <td>US-64_Cherokee_NC_Exit_4</td>\n",
       "      <td>-84.280291</td>\n",
       "      <td>35.012880</td>\n",
       "      <td>Cherokee</td>\n",
       "      <td>NC</td>\n",
       "      <td>U.S. Highway 64</td>\n",
       "      <td>Exit/Intersection</td>\n",
       "      <td>3900</td>\n",
       "      <td>60.34979</td>\n",
       "      <td>0</td>\n",
       "      <td>0</td>\n",
       "      <td>0</td>\n",
       "      <td>0</td>\n",
       "      <td>36.048303</td>\n",
       "      <td>Area of Minimal Flood Hazard</td>\n",
       "      <td>POINT (-84.28029 35.01288)</td>\n",
       "    </tr>\n",
       "    <tr>\n",
       "      <th>4</th>\n",
       "      <td>4</td>\n",
       "      <td>7063</td>\n",
       "      <td>US-64_Cherokee_NC_Exit_5</td>\n",
       "      <td>-84.275190</td>\n",
       "      <td>35.017816</td>\n",
       "      <td>Cherokee</td>\n",
       "      <td>NC</td>\n",
       "      <td>U.S. Highway 64</td>\n",
       "      <td>Exit/Intersection</td>\n",
       "      <td>3900</td>\n",
       "      <td>60.34979</td>\n",
       "      <td>0</td>\n",
       "      <td>0</td>\n",
       "      <td>0</td>\n",
       "      <td>0</td>\n",
       "      <td>36.186597</td>\n",
       "      <td>Area of Minimal Flood Hazard</td>\n",
       "      <td>POINT (-84.27519 35.01782)</td>\n",
       "    </tr>\n",
       "  </tbody>\n",
       "</table>\n",
       "</div>"
      ],
      "text/plain": [
       "   index   FID                   Exit_ID  Longitude   Latitude    County  \\\n",
       "0      0  7059  US-64_Cherokee_NC_Exit_1 -84.314304  35.019492  Cherokee   \n",
       "1      1  7060  US-64_Cherokee_NC_Exit_2 -84.311492  35.014933  Cherokee   \n",
       "2      2  7061  US-64_Cherokee_NC_Exit_3 -84.295528  35.013561  Cherokee   \n",
       "3      3  7062  US-64_Cherokee_NC_Exit_4 -84.280291  35.012880  Cherokee   \n",
       "4      4  7063  US-64_Cherokee_NC_Exit_5 -84.275190  35.017816  Cherokee   \n",
       "\n",
       "  State          Highway               Type  AADT  Pop_dens  Comm_1mi  \\\n",
       "0    NC  U.S. Highway 64  Exit/Intersection  3700  60.34979         1   \n",
       "1    NC  U.S. Highway 64  Exit/Intersection  3700  60.34979         1   \n",
       "2    NC  U.S. Highway 64  Exit/Intersection  3900  60.34979         0   \n",
       "3    NC  U.S. Highway 64  Exit/Intersection  3900  60.34979         0   \n",
       "4    NC  U.S. Highway 64  Exit/Intersection  3900  60.34979         0   \n",
       "\n",
       "   Ports_5mi  Ports_10mi  Ports_20mi  Close_nonT  \\\n",
       "0          0           0           0   34.094152   \n",
       "1          0           0           0   34.365230   \n",
       "2          0           0           0   35.233979   \n",
       "3          0           0           0   36.048303   \n",
       "4          0           0           0   36.186597   \n",
       "\n",
       "                     Flood_Zone                    geometry  \n",
       "0  Area of Minimal Flood Hazard  POINT (-84.31430 35.01949)  \n",
       "1  Area of Minimal Flood Hazard  POINT (-84.31149 35.01493)  \n",
       "2  Area of Minimal Flood Hazard  POINT (-84.29553 35.01356)  \n",
       "3  Area of Minimal Flood Hazard  POINT (-84.28029 35.01288)  \n",
       "4  Area of Minimal Flood Hazard  POINT (-84.27519 35.01782)  "
      ]
     },
     "execution_count": 2,
     "metadata": {},
     "output_type": "execute_result"
    }
   ],
   "source": [
    "#Import exit features\n",
    "exits_gdf = gpd.read_file('../Data/Processed/exits_flood.shp')\n",
    "exits_gdf.head()"
   ]
  },
  {
   "cell_type": "markdown",
   "metadata": {},
   "source": [
    "#### Converting a CSV file (with coordinates) to a geodataframe"
   ]
  },
  {
   "cell_type": "code",
   "execution_count": 3,
   "metadata": {},
   "outputs": [
    {
     "data": {
      "text/html": [
       "<div>\n",
       "<style scoped>\n",
       "    .dataframe tbody tr th:only-of-type {\n",
       "        vertical-align: middle;\n",
       "    }\n",
       "\n",
       "    .dataframe tbody tr th {\n",
       "        vertical-align: top;\n",
       "    }\n",
       "\n",
       "    .dataframe thead th {\n",
       "        text-align: right;\n",
       "    }\n",
       "</style>\n",
       "<table border=\"1\" class=\"dataframe\">\n",
       "  <thead>\n",
       "    <tr style=\"text-align: right;\">\n",
       "      <th></th>\n",
       "      <th>latitude</th>\n",
       "      <th>longitude</th>\n",
       "    </tr>\n",
       "  </thead>\n",
       "  <tbody>\n",
       "    <tr>\n",
       "      <th>0</th>\n",
       "      <td>35.392063</td>\n",
       "      <td>-80.622777</td>\n",
       "    </tr>\n",
       "    <tr>\n",
       "      <th>1</th>\n",
       "      <td>35.042419</td>\n",
       "      <td>-78.956747</td>\n",
       "    </tr>\n",
       "    <tr>\n",
       "      <th>2</th>\n",
       "      <td>36.063557</td>\n",
       "      <td>-79.503697</td>\n",
       "    </tr>\n",
       "    <tr>\n",
       "      <th>3</th>\n",
       "      <td>35.970518</td>\n",
       "      <td>-78.956848</td>\n",
       "    </tr>\n",
       "    <tr>\n",
       "      <th>4</th>\n",
       "      <td>35.261109</td>\n",
       "      <td>-81.139708</td>\n",
       "    </tr>\n",
       "  </tbody>\n",
       "</table>\n",
       "</div>"
      ],
      "text/plain": [
       "    latitude  longitude\n",
       "0  35.392063 -80.622777\n",
       "1  35.042419 -78.956747\n",
       "2  36.063557 -79.503697\n",
       "3  35.970518 -78.956848\n",
       "4  35.261109 -81.139708"
      ]
     },
     "execution_count": 3,
     "metadata": {},
     "output_type": "execute_result"
    }
   ],
   "source": [
    "#Import DCFC csv as a Pandas dataframe, importing only the longitude and latitude columns\n",
    "dcfc_df = pd.read_csv('../Data/NREL/DCFC.csv',usecols=['longitude','latitude'])\n",
    "dcfc_df.head()"
   ]
  },
  {
   "cell_type": "code",
   "execution_count": 4,
   "metadata": {},
   "outputs": [
    {
     "data": {
      "text/plain": [
       "[<shapely.geometry.point.Point at 0x7f3f59570908>,\n",
       " <shapely.geometry.point.Point at 0x7f3f59570cf8>,\n",
       " <shapely.geometry.point.Point at 0x7f3f59570cc0>,\n",
       " <shapely.geometry.point.Point at 0x7f3f59570c88>,\n",
       " <shapely.geometry.point.Point at 0x7f3f59570c18>]"
      ]
     },
     "execution_count": 4,
     "metadata": {},
     "output_type": "execute_result"
    }
   ],
   "source": [
    "#Construct points from long/lat pairs\n",
    "geom = [Point(xy) for xy in zip(dcfc_df['longitude'],dcfc_df['latitude'])]\n",
    "#Show the first 5 records\n",
    "geom[:5]"
   ]
  },
  {
   "cell_type": "code",
   "execution_count": 5,
   "metadata": {},
   "outputs": [],
   "source": [
    "#Convert to a spatial dataframe\n",
    "dcfc_gdf = gpd.GeoDataFrame(dcfc_df,geometry=geom,crs=4326)\n",
    "#Show the results\n",
    "dcfc_gdf.plot();"
   ]
  },
  {
   "cell_type": "markdown",
   "metadata": {},
   "source": [
    "#### Coordinate reference systems\n",
    "Because we are going to measure distances, we need to convert our two geodataframes, which are using geographic coordinate reference systems, to a projected crs. We'll use UTM Zone 17N (epsg=`32617`), employing the `to_crs()` function to tranform our datsets."
   ]
  },
  {
   "cell_type": "code",
   "execution_count": 7,
   "metadata": {},
   "outputs": [
    {
     "name": "stdout",
     "output_type": "stream",
     "text": [
      "epsg:4326\n",
      "epsg:4326\n"
     ]
    }
   ],
   "source": [
    "#Reveal crfs of each\n",
    "print(exits_gdf.crs)\n",
    "print(dcfc_gdf.crs)"
   ]
  },
  {
   "cell_type": "code",
   "execution_count": 8,
   "metadata": {},
   "outputs": [],
   "source": [
    "#Transform to a projected crf\n",
    "# UTM Zone 17N (epsg=`32617`)\n",
    "\n",
    "exits_gdf = exits_gdf.to_crs(32617)\n",
    "dcfc_gdf = dcfc_gdf.to_crs(32617)"
   ]
  },
  {
   "cell_type": "code",
   "execution_count": 9,
   "metadata": {},
   "outputs": [
    {
     "name": "stdout",
     "output_type": "stream",
     "text": [
      "epsg:32617\n",
      "epsg:32617\n"
     ]
    }
   ],
   "source": [
    "#Reveal crfs of each: they should be different\n",
    "print(exits_gdf.crs)\n",
    "print(dcfc_gdf.crs)"
   ]
  },
  {
   "cell_type": "markdown",
   "metadata": {},
   "source": [
    "#### Compute Nearest points "
   ]
  },
  {
   "cell_type": "code",
   "execution_count": 10,
   "metadata": {},
   "outputs": [
    {
     "data": {
      "text/plain": [
       "0     POINT (534257.311 3916588.084)\n",
       "1     POINT (686367.515 3879655.715)\n",
       "2     POINT (634754.682 3992033.866)\n",
       "3     POINT (684225.197 3982608.235)\n",
       "4     POINT (487292.040 3902008.629)\n",
       "                   ...              \n",
       "63    POINT (999687.794 3925415.130)\n",
       "64    POINT (673107.777 3943839.623)\n",
       "65    POINT (778950.405 3918250.618)\n",
       "66    POINT (585873.322 3868542.214)\n",
       "67    POINT (688330.714 3812514.371)\n",
       "Name: geometry, Length: 68, dtype: geometry"
      ]
     },
     "execution_count": 10,
     "metadata": {},
     "output_type": "execute_result"
    }
   ],
   "source": [
    "#dcfc_gdf['geometry']: list of 67 points\n",
    "dcfc_gdf['geometry']"
   ]
  },
  {
   "cell_type": "code",
   "execution_count": 11,
   "metadata": {},
   "outputs": [],
   "source": [
    "#Collapse the dcfc points into one multipoint object\n",
    "mp_dcfc = dcfc_gdf['geometry'].unary_union"
   ]
  },
  {
   "cell_type": "code",
   "execution_count": 12,
   "metadata": {},
   "outputs": [],
   "source": [
    "#Get the first exit point\n",
    "thePoint = exits_gdf.at[0,'geometry']"
   ]
  },
  {
   "cell_type": "code",
   "execution_count": 13,
   "metadata": {},
   "outputs": [],
   "source": [
    "#he nearest_points() function returns a pair of points, with the first point being the source point, \n",
    "#and the second being the nearest point in the supplied multipoint geometry.\n",
    "#Apply the nearest_points function\n",
    "from_pt, to_pt = nearest_points(thePoint,mp_dcfc)"
   ]
  },
  {
   "cell_type": "code",
   "execution_count": 14,
   "metadata": {},
   "outputs": [
    {
     "data": {
      "text/plain": [
       "165798.70324039215"
      ]
     },
     "execution_count": 14,
     "metadata": {},
     "output_type": "execute_result"
    }
   ],
   "source": [
    "#Compute the distance between the points\n",
    "distance = from_pt.distance(to_pt)\n",
    "distance"
   ]
  },
  {
   "cell_type": "code",
   "execution_count": 15,
   "metadata": {},
   "outputs": [],
   "source": [
    "#Put it all together in a function\n",
    "def distance_to_dcfc(from_point,to_points):\n",
    "    distance=from_point.distance(nearest_points(from_point,to_points)[1])\n",
    "    #Convert to miles\n",
    "    return int(distance/1609.34)"
   ]
  },
  {
   "cell_type": "code",
   "execution_count": 16,
   "metadata": {},
   "outputs": [
    {
     "data": {
      "text/plain": [
       "103"
      ]
     },
     "execution_count": 16,
     "metadata": {},
     "output_type": "execute_result"
    }
   ],
   "source": [
    "#Test it\n",
    "distance_to_dcfc(thePoint,mp_dcfc)"
   ]
  },
  {
   "cell_type": "code",
   "execution_count": 17,
   "metadata": {},
   "outputs": [
    {
     "data": {
      "text/html": [
       "<div>\n",
       "<style scoped>\n",
       "    .dataframe tbody tr th:only-of-type {\n",
       "        vertical-align: middle;\n",
       "    }\n",
       "\n",
       "    .dataframe tbody tr th {\n",
       "        vertical-align: top;\n",
       "    }\n",
       "\n",
       "    .dataframe thead th {\n",
       "        text-align: right;\n",
       "    }\n",
       "</style>\n",
       "<table border=\"1\" class=\"dataframe\">\n",
       "  <thead>\n",
       "    <tr style=\"text-align: right;\">\n",
       "      <th></th>\n",
       "      <th>index</th>\n",
       "      <th>FID</th>\n",
       "      <th>Exit_ID</th>\n",
       "      <th>Longitude</th>\n",
       "      <th>Latitude</th>\n",
       "      <th>County</th>\n",
       "      <th>State</th>\n",
       "      <th>Highway</th>\n",
       "      <th>Type</th>\n",
       "      <th>AADT</th>\n",
       "      <th>Pop_dens</th>\n",
       "      <th>Comm_1mi</th>\n",
       "      <th>Ports_5mi</th>\n",
       "      <th>Ports_10mi</th>\n",
       "      <th>Ports_20mi</th>\n",
       "      <th>Close_nonT</th>\n",
       "      <th>Flood_Zone</th>\n",
       "      <th>geometry</th>\n",
       "      <th>Dist_to_DCFC</th>\n",
       "    </tr>\n",
       "  </thead>\n",
       "  <tbody>\n",
       "    <tr>\n",
       "      <th>0</th>\n",
       "      <td>0</td>\n",
       "      <td>7059</td>\n",
       "      <td>US-64_Cherokee_NC_Exit_1</td>\n",
       "      <td>-84.314304</td>\n",
       "      <td>35.019492</td>\n",
       "      <td>Cherokee</td>\n",
       "      <td>NC</td>\n",
       "      <td>U.S. Highway 64</td>\n",
       "      <td>Exit/Intersection</td>\n",
       "      <td>3700</td>\n",
       "      <td>60.34979</td>\n",
       "      <td>1</td>\n",
       "      <td>0</td>\n",
       "      <td>0</td>\n",
       "      <td>0</td>\n",
       "      <td>34.094152</td>\n",
       "      <td>Area of Minimal Flood Hazard</td>\n",
       "      <td>POINT (197578.012 3880227.389)</td>\n",
       "      <td>103</td>\n",
       "    </tr>\n",
       "    <tr>\n",
       "      <th>1</th>\n",
       "      <td>1</td>\n",
       "      <td>7060</td>\n",
       "      <td>US-64_Cherokee_NC_Exit_2</td>\n",
       "      <td>-84.311492</td>\n",
       "      <td>35.014933</td>\n",
       "      <td>Cherokee</td>\n",
       "      <td>NC</td>\n",
       "      <td>U.S. Highway 64</td>\n",
       "      <td>Exit/Intersection</td>\n",
       "      <td>3700</td>\n",
       "      <td>60.34979</td>\n",
       "      <td>1</td>\n",
       "      <td>0</td>\n",
       "      <td>0</td>\n",
       "      <td>0</td>\n",
       "      <td>34.365230</td>\n",
       "      <td>Area of Minimal Flood Hazard</td>\n",
       "      <td>POINT (197817.907 3879713.054)</td>\n",
       "      <td>102</td>\n",
       "    </tr>\n",
       "    <tr>\n",
       "      <th>2</th>\n",
       "      <td>2</td>\n",
       "      <td>7061</td>\n",
       "      <td>US-64_Cherokee_NC_Exit_3</td>\n",
       "      <td>-84.295528</td>\n",
       "      <td>35.013561</td>\n",
       "      <td>Cherokee</td>\n",
       "      <td>NC</td>\n",
       "      <td>U.S. Highway 64</td>\n",
       "      <td>Exit/Intersection</td>\n",
       "      <td>3900</td>\n",
       "      <td>60.34979</td>\n",
       "      <td>0</td>\n",
       "      <td>0</td>\n",
       "      <td>0</td>\n",
       "      <td>0</td>\n",
       "      <td>35.233979</td>\n",
       "      <td>Area of Minimal Flood Hazard</td>\n",
       "      <td>POINT (199270.172 3879512.464)</td>\n",
       "      <td>102</td>\n",
       "    </tr>\n",
       "    <tr>\n",
       "      <th>3</th>\n",
       "      <td>3</td>\n",
       "      <td>7062</td>\n",
       "      <td>US-64_Cherokee_NC_Exit_4</td>\n",
       "      <td>-84.280291</td>\n",
       "      <td>35.012880</td>\n",
       "      <td>Cherokee</td>\n",
       "      <td>NC</td>\n",
       "      <td>U.S. Highway 64</td>\n",
       "      <td>Exit/Intersection</td>\n",
       "      <td>3900</td>\n",
       "      <td>60.34979</td>\n",
       "      <td>0</td>\n",
       "      <td>0</td>\n",
       "      <td>0</td>\n",
       "      <td>0</td>\n",
       "      <td>36.048303</td>\n",
       "      <td>Area of Minimal Flood Hazard</td>\n",
       "      <td>POINT (200658.638 3879391.092)</td>\n",
       "      <td>101</td>\n",
       "    </tr>\n",
       "    <tr>\n",
       "      <th>4</th>\n",
       "      <td>4</td>\n",
       "      <td>7063</td>\n",
       "      <td>US-64_Cherokee_NC_Exit_5</td>\n",
       "      <td>-84.275190</td>\n",
       "      <td>35.017816</td>\n",
       "      <td>Cherokee</td>\n",
       "      <td>NC</td>\n",
       "      <td>U.S. Highway 64</td>\n",
       "      <td>Exit/Intersection</td>\n",
       "      <td>3900</td>\n",
       "      <td>60.34979</td>\n",
       "      <td>0</td>\n",
       "      <td>0</td>\n",
       "      <td>0</td>\n",
       "      <td>0</td>\n",
       "      <td>36.186597</td>\n",
       "      <td>Area of Minimal Flood Hazard</td>\n",
       "      <td>POINT (201142.266 3879923.503)</td>\n",
       "      <td>100</td>\n",
       "    </tr>\n",
       "  </tbody>\n",
       "</table>\n",
       "</div>"
      ],
      "text/plain": [
       "   index   FID                   Exit_ID  Longitude   Latitude    County  \\\n",
       "0      0  7059  US-64_Cherokee_NC_Exit_1 -84.314304  35.019492  Cherokee   \n",
       "1      1  7060  US-64_Cherokee_NC_Exit_2 -84.311492  35.014933  Cherokee   \n",
       "2      2  7061  US-64_Cherokee_NC_Exit_3 -84.295528  35.013561  Cherokee   \n",
       "3      3  7062  US-64_Cherokee_NC_Exit_4 -84.280291  35.012880  Cherokee   \n",
       "4      4  7063  US-64_Cherokee_NC_Exit_5 -84.275190  35.017816  Cherokee   \n",
       "\n",
       "  State          Highway               Type  AADT  Pop_dens  Comm_1mi  \\\n",
       "0    NC  U.S. Highway 64  Exit/Intersection  3700  60.34979         1   \n",
       "1    NC  U.S. Highway 64  Exit/Intersection  3700  60.34979         1   \n",
       "2    NC  U.S. Highway 64  Exit/Intersection  3900  60.34979         0   \n",
       "3    NC  U.S. Highway 64  Exit/Intersection  3900  60.34979         0   \n",
       "4    NC  U.S. Highway 64  Exit/Intersection  3900  60.34979         0   \n",
       "\n",
       "   Ports_5mi  Ports_10mi  Ports_20mi  Close_nonT  \\\n",
       "0          0           0           0   34.094152   \n",
       "1          0           0           0   34.365230   \n",
       "2          0           0           0   35.233979   \n",
       "3          0           0           0   36.048303   \n",
       "4          0           0           0   36.186597   \n",
       "\n",
       "                     Flood_Zone                        geometry  Dist_to_DCFC  \n",
       "0  Area of Minimal Flood Hazard  POINT (197578.012 3880227.389)           103  \n",
       "1  Area of Minimal Flood Hazard  POINT (197817.907 3879713.054)           102  \n",
       "2  Area of Minimal Flood Hazard  POINT (199270.172 3879512.464)           102  \n",
       "3  Area of Minimal Flood Hazard  POINT (200658.638 3879391.092)           101  \n",
       "4  Area of Minimal Flood Hazard  POINT (201142.266 3879923.503)           100  "
      ]
     },
     "execution_count": 17,
     "metadata": {},
     "output_type": "execute_result"
    }
   ],
   "source": [
    "#Apply it to all exit features\n",
    "exits_gdf['Dist_to_DCFC']=exits_gdf['geometry'].apply(lambda x: distance_to_dcfc(x,mp_dcfc))\n",
    "exits_gdf.head()"
   ]
  },
  {
   "cell_type": "code",
   "execution_count": 18,
   "metadata": {},
   "outputs": [],
   "source": [
    "#Save the output to a csv file\n",
    "exits_gdf.to_file('../Data/Processed/Exits_distance_to_DCFC.shp')"
   ]
  },
  {
   "cell_type": "code",
   "execution_count": 20,
   "metadata": {},
   "outputs": [
    {
     "data": {
      "text/plain": [
       "<matplotlib.axes._subplots.AxesSubplot at 0x7f3f595a87f0>"
      ]
     },
     "execution_count": 20,
     "metadata": {},
     "output_type": "execute_result"
    },
    {
     "data": {
      "image/png": "[encoded data removed]",
      "text/plain": [
       "<Figure size 864x432 with 1 Axes>"
      ]
     },
     "metadata": {
      "needs_background": "light"
     },
     "output_type": "display_data"
    }
   ],
   "source": [
    "my_axes = exits_gdf.plot('Dist_to_DCFC', figsize=(12,6))\n",
    "dcfc_gdf.plot(ax=my_axes, color='red')"
   ]
  },
  {
   "cell_type": "code",
   "execution_count": null,
   "metadata": {},
   "outputs": [],
   "source": []
  }
 ],
 "metadata": {
  "kernelspec": {
   "display_name": "Python 3",
   "language": "python",
   "name": "python3"
  },
  "language_info": {
   "codemirror_mode": {
    "name": "ipython",
    "version": 3
   },
   "file_extension": ".py",
   "mimetype": "text/x-python",
   "name": "python",
   "nbconvert_exporter": "python",
   "pygments_lexer": "ipython3",
   "version": "3.7.3"
  }
 },
 "nbformat": 4,
 "nbformat_minor": 2
}
