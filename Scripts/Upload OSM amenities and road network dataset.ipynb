{
 "cells": [
  {
   "cell_type": "code",
   "execution_count": 1,
   "metadata": {},
   "outputs": [
    {
     "name": "stderr",
     "output_type": "stream",
     "text": [
      "/opt/conda/lib/python3.7/site-packages/arcgis/features/_data/geodataset/utils.py:16: FutureWarning: The pandas.datetime class is deprecated and will be removed from pandas in a future version. Import from datetime module instead.\n",
      "  pd.datetime,\n"
     ]
    }
   ],
   "source": [
    "#import packages\n",
    "from arcgis import GIS\n",
    "import pandas as pd\n",
    "from arcgis.features import GeoAccessor"
   ]
  },
  {
   "cell_type": "code",
   "execution_count": 2,
   "metadata": {},
   "outputs": [
    {
     "name": "stdout",
     "output_type": "stream",
     "text": [
      "Enter password: ········\n"
     ]
    }
   ],
   "source": [
    "#Authenticate our GIS object\n",
    "gis = GIS(url='https://NSOE.maps.arcgis.com',username='xf35_790')"
   ]
  },
  {
   "cell_type": "code",
   "execution_count": 9,
   "metadata": {},
   "outputs": [],
   "source": [
    "#Read local datasets into spatial dataframes\n",
    "sdf_OSMamenities = GeoAccessor.from_featureclass('../Data/OSM/OSM_amenities.shp')\n",
    "sdf_edges = GeoAccessor.from_featureclass('../Data/OSM/NC_roads/edges/edges.shp')\n",
    "sdf_nodes = GeoAccessor.from_featureclass('../Data/OSM/NC_roads/nodes/nodes.shp')"
   ]
  },
  {
   "cell_type": "code",
   "execution_count": 4,
   "metadata": {},
   "outputs": [
    {
     "data": {
      "text/html": [
       "<div>\n",
       "<style scoped>\n",
       "    .dataframe tbody tr th:only-of-type {\n",
       "        vertical-align: middle;\n",
       "    }\n",
       "\n",
       "    .dataframe tbody tr th {\n",
       "        vertical-align: top;\n",
       "    }\n",
       "\n",
       "    .dataframe thead th {\n",
       "        text-align: right;\n",
       "    }\n",
       "</style>\n",
       "<table border=\"1\" class=\"dataframe\">\n",
       "  <thead>\n",
       "    <tr style=\"text-align: right;\">\n",
       "      <th></th>\n",
       "      <th>index</th>\n",
       "      <th>amenity</th>\n",
       "      <th>SHAPE</th>\n",
       "    </tr>\n",
       "  </thead>\n",
       "  <tbody>\n",
       "    <tr>\n",
       "      <th>0</th>\n",
       "      <td>0</td>\n",
       "      <td>restaurant</td>\n",
       "      <td>{'x': -78.9189592, 'y': 36.0164193, 'spatialRe...</td>\n",
       "    </tr>\n",
       "    <tr>\n",
       "      <th>1</th>\n",
       "      <td>1</td>\n",
       "      <td>restaurant</td>\n",
       "      <td>{'x': -78.9190261, 'y': 36.0157299, 'spatialRe...</td>\n",
       "    </tr>\n",
       "    <tr>\n",
       "      <th>2</th>\n",
       "      <td>2</td>\n",
       "      <td>restaurant</td>\n",
       "      <td>{'x': -78.9298635, 'y': 35.9200744, 'spatialRe...</td>\n",
       "    </tr>\n",
       "    <tr>\n",
       "      <th>3</th>\n",
       "      <td>3</td>\n",
       "      <td>restaurant</td>\n",
       "      <td>{'x': -78.9296436, 'y': 35.9204394, 'spatialRe...</td>\n",
       "    </tr>\n",
       "    <tr>\n",
       "      <th>4</th>\n",
       "      <td>4</td>\n",
       "      <td>restaurant</td>\n",
       "      <td>{'x': -78.9180611, 'y': 36.0230655, 'spatialRe...</td>\n",
       "    </tr>\n",
       "  </tbody>\n",
       "</table>\n",
       "</div>"
      ],
      "text/plain": [
       "   index     amenity                                              SHAPE\n",
       "0      0  restaurant  {'x': -78.9189592, 'y': 36.0164193, 'spatialRe...\n",
       "1      1  restaurant  {'x': -78.9190261, 'y': 36.0157299, 'spatialRe...\n",
       "2      2  restaurant  {'x': -78.9298635, 'y': 35.9200744, 'spatialRe...\n",
       "3      3  restaurant  {'x': -78.9296436, 'y': 35.9204394, 'spatialRe...\n",
       "4      4  restaurant  {'x': -78.9180611, 'y': 36.0230655, 'spatialRe..."
      ]
     },
     "execution_count": 4,
     "metadata": {},
     "output_type": "execute_result"
    }
   ],
   "source": [
    "sdf_OSMamenities.head()"
   ]
  },
  {
   "cell_type": "code",
   "execution_count": 5,
   "metadata": {},
   "outputs": [
    {
     "data": {
      "text/html": [
       "<div>\n",
       "<style scoped>\n",
       "    .dataframe tbody tr th:only-of-type {\n",
       "        vertical-align: middle;\n",
       "    }\n",
       "\n",
       "    .dataframe tbody tr th {\n",
       "        vertical-align: top;\n",
       "    }\n",
       "\n",
       "    .dataframe thead th {\n",
       "        text-align: right;\n",
       "    }\n",
       "</style>\n",
       "<table border=\"1\" class=\"dataframe\">\n",
       "  <thead>\n",
       "    <tr style=\"text-align: right;\">\n",
       "      <th></th>\n",
       "      <th>index</th>\n",
       "      <th>key</th>\n",
       "      <th>osmid</th>\n",
       "      <th>oneway</th>\n",
       "      <th>highway</th>\n",
       "      <th>length</th>\n",
       "      <th>name</th>\n",
       "      <th>from</th>\n",
       "      <th>to</th>\n",
       "      <th>maxspeed</th>\n",
       "      <th>lanes</th>\n",
       "      <th>ref</th>\n",
       "      <th>bridge</th>\n",
       "      <th>junction</th>\n",
       "      <th>tunnel</th>\n",
       "      <th>access</th>\n",
       "      <th>width</th>\n",
       "      <th>SHAPE</th>\n",
       "    </tr>\n",
       "  </thead>\n",
       "  <tbody>\n",
       "    <tr>\n",
       "      <th>0</th>\n",
       "      <td>0</td>\n",
       "      <td>0</td>\n",
       "      <td>[15117841, 15121827]</td>\n",
       "      <td>True</td>\n",
       "      <td>['primary', 'motorway_link']</td>\n",
       "      <td>340.216</td>\n",
       "      <td>East Market Street</td>\n",
       "      <td>1859256320</td>\n",
       "      <td>6637360892</td>\n",
       "      <td></td>\n",
       "      <td></td>\n",
       "      <td></td>\n",
       "      <td></td>\n",
       "      <td></td>\n",
       "      <td></td>\n",
       "      <td></td>\n",
       "      <td></td>\n",
       "      <td>{'paths': [[[-78.3226884, 35.5022749], [-78.32...</td>\n",
       "    </tr>\n",
       "    <tr>\n",
       "      <th>1</th>\n",
       "      <td>1</td>\n",
       "      <td>0</td>\n",
       "      <td>175317278</td>\n",
       "      <td>True</td>\n",
       "      <td>motorway_link</td>\n",
       "      <td>59.782000000000004</td>\n",
       "      <td></td>\n",
       "      <td>1859256320</td>\n",
       "      <td>149412495</td>\n",
       "      <td></td>\n",
       "      <td></td>\n",
       "      <td></td>\n",
       "      <td></td>\n",
       "      <td></td>\n",
       "      <td></td>\n",
       "      <td></td>\n",
       "      <td></td>\n",
       "      <td>{'paths': [[[-78.3226884, 35.5022749], [-78.32...</td>\n",
       "    </tr>\n",
       "    <tr>\n",
       "      <th>2</th>\n",
       "      <td>2</td>\n",
       "      <td>0</td>\n",
       "      <td>15117841</td>\n",
       "      <td>True</td>\n",
       "      <td>motorway_link</td>\n",
       "      <td>256.656</td>\n",
       "      <td></td>\n",
       "      <td>149376303</td>\n",
       "      <td>1859256320</td>\n",
       "      <td></td>\n",
       "      <td></td>\n",
       "      <td></td>\n",
       "      <td></td>\n",
       "      <td></td>\n",
       "      <td></td>\n",
       "      <td></td>\n",
       "      <td></td>\n",
       "      <td>{'paths': [[[-78.3254163, 35.501843], [-78.325...</td>\n",
       "    </tr>\n",
       "    <tr>\n",
       "      <th>3</th>\n",
       "      <td>3</td>\n",
       "      <td>0</td>\n",
       "      <td>175317277</td>\n",
       "      <td>True</td>\n",
       "      <td>motorway_link</td>\n",
       "      <td>49.722</td>\n",
       "      <td></td>\n",
       "      <td>1859256323</td>\n",
       "      <td>1859256359</td>\n",
       "      <td></td>\n",
       "      <td></td>\n",
       "      <td></td>\n",
       "      <td></td>\n",
       "      <td></td>\n",
       "      <td></td>\n",
       "      <td></td>\n",
       "      <td></td>\n",
       "      <td>{'paths': [[[-78.2699164, 35.5272877], [-78.26...</td>\n",
       "    </tr>\n",
       "    <tr>\n",
       "      <th>4</th>\n",
       "      <td>4</td>\n",
       "      <td>0</td>\n",
       "      <td>18888880</td>\n",
       "      <td>True</td>\n",
       "      <td>motorway_link</td>\n",
       "      <td>112.777</td>\n",
       "      <td></td>\n",
       "      <td>195395587</td>\n",
       "      <td>195395592</td>\n",
       "      <td>30 mph</td>\n",
       "      <td></td>\n",
       "      <td></td>\n",
       "      <td></td>\n",
       "      <td></td>\n",
       "      <td></td>\n",
       "      <td></td>\n",
       "      <td></td>\n",
       "      <td>{'paths': [[[-78.6952535, 35.795684], [-78.695...</td>\n",
       "    </tr>\n",
       "  </tbody>\n",
       "</table>\n",
       "</div>"
      ],
      "text/plain": [
       "   index key                 osmid oneway                       highway  \\\n",
       "0      0   0  [15117841, 15121827]   True  ['primary', 'motorway_link']   \n",
       "1      1   0             175317278   True                 motorway_link   \n",
       "2      2   0              15117841   True                 motorway_link   \n",
       "3      3   0             175317277   True                 motorway_link   \n",
       "4      4   0              18888880   True                 motorway_link   \n",
       "\n",
       "               length                name        from          to maxspeed  \\\n",
       "0             340.216  East Market Street  1859256320  6637360892            \n",
       "1  59.782000000000004                      1859256320   149412495            \n",
       "2             256.656                       149376303  1859256320            \n",
       "3              49.722                      1859256323  1859256359            \n",
       "4             112.777                       195395587   195395592   30 mph   \n",
       "\n",
       "  lanes ref bridge junction tunnel access width  \\\n",
       "0                                                 \n",
       "1                                                 \n",
       "2                                                 \n",
       "3                                                 \n",
       "4                                                 \n",
       "\n",
       "                                               SHAPE  \n",
       "0  {'paths': [[[-78.3226884, 35.5022749], [-78.32...  \n",
       "1  {'paths': [[[-78.3226884, 35.5022749], [-78.32...  \n",
       "2  {'paths': [[[-78.3254163, 35.501843], [-78.325...  \n",
       "3  {'paths': [[[-78.2699164, 35.5272877], [-78.26...  \n",
       "4  {'paths': [[[-78.6952535, 35.795684], [-78.695...  "
      ]
     },
     "execution_count": 5,
     "metadata": {},
     "output_type": "execute_result"
    }
   ],
   "source": [
    "sdf_edges.head()"
   ]
  },
  {
   "cell_type": "code",
   "execution_count": 6,
   "metadata": {
    "scrolled": true
   },
   "outputs": [
    {
     "data": {
      "text/html": [
       "<div>\n",
       "<style scoped>\n",
       "    .dataframe tbody tr th:only-of-type {\n",
       "        vertical-align: middle;\n",
       "    }\n",
       "\n",
       "    .dataframe tbody tr th {\n",
       "        vertical-align: top;\n",
       "    }\n",
       "\n",
       "    .dataframe thead th {\n",
       "        text-align: right;\n",
       "    }\n",
       "</style>\n",
       "<table border=\"1\" class=\"dataframe\">\n",
       "  <thead>\n",
       "    <tr style=\"text-align: right;\">\n",
       "      <th></th>\n",
       "      <th>index</th>\n",
       "      <th>osmid</th>\n",
       "      <th>ref</th>\n",
       "      <th>highway</th>\n",
       "      <th>SHAPE</th>\n",
       "    </tr>\n",
       "  </thead>\n",
       "  <tbody>\n",
       "    <tr>\n",
       "      <th>0</th>\n",
       "      <td>0</td>\n",
       "      <td>1859256320</td>\n",
       "      <td></td>\n",
       "      <td></td>\n",
       "      <td>{'x': -78.3226884, 'y': 35.5022749, 'spatialRe...</td>\n",
       "    </tr>\n",
       "    <tr>\n",
       "      <th>1</th>\n",
       "      <td>1</td>\n",
       "      <td>1859256323</td>\n",
       "      <td></td>\n",
       "      <td></td>\n",
       "      <td>{'x': -78.2699164, 'y': 35.5272877, 'spatialRe...</td>\n",
       "    </tr>\n",
       "    <tr>\n",
       "      <th>2</th>\n",
       "      <td>2</td>\n",
       "      <td>195395587</td>\n",
       "      <td></td>\n",
       "      <td></td>\n",
       "      <td>{'x': -78.6952535, 'y': 35.795684, 'spatialRef...</td>\n",
       "    </tr>\n",
       "    <tr>\n",
       "      <th>3</th>\n",
       "      <td>3</td>\n",
       "      <td>409698309</td>\n",
       "      <td>86</td>\n",
       "      <td>motorway_junction</td>\n",
       "      <td>{'x': -79.8218853, 'y': 35.8861502, 'spatialRe...</td>\n",
       "    </tr>\n",
       "    <tr>\n",
       "      <th>4</th>\n",
       "      <td>4</td>\n",
       "      <td>195395592</td>\n",
       "      <td></td>\n",
       "      <td></td>\n",
       "      <td>{'x': -78.695919, 'y': 35.7963906, 'spatialRef...</td>\n",
       "    </tr>\n",
       "  </tbody>\n",
       "</table>\n",
       "</div>"
      ],
      "text/plain": [
       "   index       osmid ref            highway  \\\n",
       "0      0  1859256320                          \n",
       "1      1  1859256323                          \n",
       "2      2   195395587                          \n",
       "3      3   409698309  86  motorway_junction   \n",
       "4      4   195395592                          \n",
       "\n",
       "                                               SHAPE  \n",
       "0  {'x': -78.3226884, 'y': 35.5022749, 'spatialRe...  \n",
       "1  {'x': -78.2699164, 'y': 35.5272877, 'spatialRe...  \n",
       "2  {'x': -78.6952535, 'y': 35.795684, 'spatialRef...  \n",
       "3  {'x': -79.8218853, 'y': 35.8861502, 'spatialRe...  \n",
       "4  {'x': -78.695919, 'y': 35.7963906, 'spatialRef...  "
      ]
     },
     "execution_count": 6,
     "metadata": {},
     "output_type": "execute_result"
    }
   ],
   "source": [
    "sdf_nodes.head()"
   ]
  },
  {
   "cell_type": "code",
   "execution_count": 8,
   "metadata": {},
   "outputs": [
    {
     "data": {
      "text/plain": [
       "{'results': [{'itemId': 'e7f73d8c09904a4da9d322a5b99215ae',\n",
       "   'success': True,\n",
       "   'notSharedWith': []}]}"
      ]
     },
     "execution_count": 8,
     "metadata": {},
     "output_type": "execute_result"
    }
   ],
   "source": [
    "#Convert the sdf_Master to a FeatureLayer, which publishes it to AGOL\n",
    "flyr_OSMamenities = sdf_OSMamenities.spatial.to_featurelayer(title='OSM Amenities sites',\n",
    "                                             tags='EV Charger,ENV790')\n",
    "\n",
    "#Share with everyone in the organization\n",
    "flyr_OSMamenities.share(org=True)"
   ]
  },
  {
   "cell_type": "code",
   "execution_count": 11,
   "metadata": {},
   "outputs": [
    {
     "data": {
      "text/plain": [
       "{'results': [{'itemId': 'de4c8286773645ca8be38605926cc956',\n",
       "   'success': True,\n",
       "   'notSharedWith': []}]}"
      ]
     },
     "execution_count": 11,
     "metadata": {},
     "output_type": "execute_result"
    }
   ],
   "source": [
    "flyr_edges = sdf_edges.spatial.to_featurelayer(title='Edges location',\n",
    "                                             tags='EV Charger,ENV790')\n",
    "\n",
    "flyr_edges.share(org=True)"
   ]
  },
  {
   "cell_type": "code",
   "execution_count": 12,
   "metadata": {},
   "outputs": [
    {
     "data": {
      "text/plain": [
       "{'results': [{'itemId': '08b565b13ec74a4fb5370ebe482ff36a',\n",
       "   'success': True,\n",
       "   'notSharedWith': []}]}"
      ]
     },
     "execution_count": 12,
     "metadata": {},
     "output_type": "execute_result"
    }
   ],
   "source": [
    "flyr_nodes = sdf_nodes.spatial.to_featurelayer(title='Nodes location',\n",
    "                                             tags='EV Charger,ENV790')\n",
    "\n",
    "flyr_nodes.share(org=True)"
   ]
  },
  {
   "cell_type": "code",
   "execution_count": null,
   "metadata": {},
   "outputs": [],
   "source": []
  }
 ],
 "metadata": {
  "kernelspec": {
   "display_name": "Python 3",
   "language": "python",
   "name": "python3"
  },
  "language_info": {
   "codemirror_mode": {
    "name": "ipython",
    "version": 3
   },
   "file_extension": ".py",
   "mimetype": "text/x-python",
   "name": "python",
   "nbconvert_exporter": "python",
   "pygments_lexer": "ipython3",
   "version": "3.7.3"
  }
 },
 "nbformat": 4,
 "nbformat_minor": 2
}
